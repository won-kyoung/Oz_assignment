{
 "cells": [
  {
   "cell_type": "markdown",
   "metadata": {},
   "source": [
    "사용자로부터 두 개의 숫자를 입력받아 나눗셈을 수행하는 프로그램을 작성하세요. \n",
    "\n",
    "[예외처리]\n",
    "- 입력 값이 숫자가 아닐 때 발생할 수 있는 ValueError\n",
    "- 나누는 수가 0일 때 발생할 수 있는 ZeroDivisionError\n",
    "- 위 2가지 예외처리 후 사용자에게 이해하기 쉬운 메시지 작성 후 출력되도록 코드를 작성"
   ]
  },
  {
   "cell_type": "code",
   "execution_count": 9,
   "metadata": {},
   "outputs": [
    {
     "name": "stdout",
     "output_type": "stream",
     "text": [
      "integer division or modulo by zero\n",
      "0으로 나눌 수 없습니다\n"
     ]
    }
   ],
   "source": [
    "#입력값 : 4,0\n",
    "try:\n",
    "    a,b = map(int,input('두 숫자를 입력하세요 ex) 1,2').split(','))\n",
    "    print(\"(몫,나머지):\",divmod(a,b))\n",
    "except ValueError as exception:\n",
    "    print(exception)\n",
    "    print(\"입력값이 숫자가 아닙니다.\")\n",
    "except ZeroDivisionError as exception:\n",
    "    print(exception)\n",
    "    print(\"0으로 나눌 수 없습니다\")"
   ]
  },
  {
   "cell_type": "code",
   "execution_count": 10,
   "metadata": {},
   "outputs": [
    {
     "name": "stdout",
     "output_type": "stream",
     "text": [
      "(몫,나머지): (2, 0)\n"
     ]
    }
   ],
   "source": [
    "#입력값 : 4,2\n",
    "try:\n",
    "    a,b = map(int,input('두 숫자를 입력하세요 ex) 1,2').split(','))\n",
    "    print(\"(몫,나머지):\",divmod(a,b))\n",
    "except ValueError as exception:\n",
    "    print(exception)\n",
    "    print(\"입력값이 숫자가 아닙니다.\")\n",
    "except ZeroDivisionError as exception:\n",
    "    print(exception)\n",
    "    print(\"0으로 나눌 수 없습니다\")"
   ]
  },
  {
   "cell_type": "code",
   "execution_count": 11,
   "metadata": {},
   "outputs": [
    {
     "name": "stdout",
     "output_type": "stream",
     "text": [
      "invalid literal for int() with base 10: '안'\n",
      "입력값이 숫자가 아닙니다.\n"
     ]
    }
   ],
   "source": [
    "#입력값 : '안'\n",
    "try:\n",
    "    a,b = map(int,input('두 숫자를 입력하세요 ex) 1,2').split(','))\n",
    "    print(\"(몫,나머지):\",divmod(a,b))\n",
    "except ValueError as exception:\n",
    "    print(exception)\n",
    "    print(\"입력값이 숫자가 아닙니다.\")\n",
    "except ZeroDivisionError as exception:\n",
    "    print(exception)\n",
    "    print(\"0으로 나눌 수 없습니다\")"
   ]
  },
  {
   "cell_type": "code",
   "execution_count": null,
   "metadata": {},
   "outputs": [],
   "source": []
  }
 ],
 "metadata": {
  "kernelspec": {
   "display_name": "Python 3",
   "language": "python",
   "name": "python3"
  },
  "language_info": {
   "codemirror_mode": {
    "name": "ipython",
    "version": 3
   },
   "file_extension": ".py",
   "mimetype": "text/x-python",
   "name": "python",
   "nbconvert_exporter": "python",
   "pygments_lexer": "ipython3",
   "version": "3.9.6"
  }
 },
 "nbformat": 4,
 "nbformat_minor": 2
}
