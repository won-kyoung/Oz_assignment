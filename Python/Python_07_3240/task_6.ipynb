{
 "cells": [
  {
   "cell_type": "markdown",
   "metadata": {},
   "source": [
    "requests 모듈을 사용하여, 웹 페이지의 HTML을 가져오는 간단한 웹 스크레이퍼를 작성하세요.\n",
    "\n",
    "'https://kream.co.kr/'에서<br> \n",
    "데이터를 가져와서 상태 코드와 HTML의 첫 100자를 출력하세요.<br>\n",
    "(실습 전 requests 모듈을 설치해야 함)"
   ]
  },
  {
   "cell_type": "code",
   "execution_count": 5,
   "metadata": {},
   "outputs": [
    {
     "name": "stderr",
     "output_type": "stream",
     "text": [
      "/Users/mac/Library/Python/3.9/lib/python/site-packages/urllib3/__init__.py:35: NotOpenSSLWarning: urllib3 v2 only supports OpenSSL 1.1.1+, currently the 'ssl' module is compiled with 'LibreSSL 2.8.3'. See: https://github.com/urllib3/urllib3/issues/3020\n",
      "  warnings.warn(\n"
     ]
    },
    {
     "name": "stdout",
     "output_type": "stream",
     "text": [
      "상태 코드:  503\n",
      "HTML 내용:  <!DOCTYPE html>\n",
      "<html lang=\"ko\">\n",
      "  <head>\n",
      "    <meta charset=\"UTF-8\" />\n",
      "    <meta\n",
      "      name=\"viewpor\n"
     ]
    }
   ],
   "source": [
    "#정답 참고함\n",
    "import requests\n",
    "\n",
    "response = requests.get('https://kream.co.kr')\n",
    "print(\"상태 코드: \",response.status_code)\n",
    "print(\"HTML 내용: \",response.text[:100])"
   ]
  },
  {
   "cell_type": "markdown",
   "metadata": {},
   "source": []
  }
 ],
 "metadata": {
  "kernelspec": {
   "display_name": "Python 3",
   "language": "python",
   "name": "python3"
  },
  "language_info": {
   "codemirror_mode": {
    "name": "ipython",
    "version": 3
   },
   "file_extension": ".py",
   "mimetype": "text/x-python",
   "name": "python",
   "nbconvert_exporter": "python",
   "pygments_lexer": "ipython3",
   "version": "3.9.6"
  }
 },
 "nbformat": 4,
 "nbformat_minor": 2
}
